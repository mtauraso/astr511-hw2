{
 "cells": [
  {
   "cell_type": "code",
   "execution_count": 2,
   "id": "2bde35fa",
   "metadata": {},
   "outputs": [
    {
     "data": {
      "text/html": [
       "<style>.container { width:100% !important; }</style>"
      ],
      "text/plain": [
       "<IPython.core.display.HTML object>"
      ]
     },
     "metadata": {},
     "output_type": "display_data"
    }
   ],
   "source": [
    "# Don't look at this notebook through a peephole\n",
    "from IPython.display import display, HTML\n",
    "display(HTML(\"<style>.container { width:100% !important; }</style>\"))"
   ]
  },
  {
   "cell_type": "code",
   "execution_count": 3,
   "id": "727a9644",
   "metadata": {},
   "outputs": [
    {
     "data": {
      "text/html": [
       "<div><i>Table length=2</i>\n",
       "<table id=\"table140068014040256\" class=\"table-striped table-bordered table-condensed\">\n",
       "<thead><tr><th>ID</th><th>RA</th><th>DEC</th></tr></thead>\n",
       "<thead><tr><th></th><th>deg</th><th>deg</th></tr></thead>\n",
       "<thead><tr><th>object</th><th>float64</th><th>float64</th></tr></thead>\n",
       "<tr><td>NGC   869</td><td>34.74100000</td><td>57.13400000</td></tr>\n",
       "<tr><td>NGC   884</td><td>35.58400000</td><td>57.14900000</td></tr>\n",
       "</table></div>"
      ],
      "text/plain": [
       "<Table length=2>\n",
       "    ID         RA         DEC     \n",
       "              deg         deg     \n",
       "  object    float64     float64   \n",
       "--------- ----------- ------------\n",
       "NGC   869 34.74100000  57.13400000\n",
       "NGC   884 35.58400000  57.14900000"
      ]
     },
     "execution_count": 3,
     "metadata": {},
     "output_type": "execute_result"
    }
   ],
   "source": [
    "from astroquery.simbad import Simbad\n",
    "customSimbad = Simbad()\n",
    "customSimbad.remove_votable_fields('coordinates')\n",
    "customSimbad.add_votable_fields('ra(d;A;ICRS;;)', 'dec(d;D;ICRS;;)')\n",
    "result_table = customSimbad.query_objects([\"NGC869\", \"NGC884\"])\n",
    "result_table.keep_columns(['MAIN_ID', 'RA_d_A_ICRS__', 'DEC_d_D_ICRS__'])\n",
    "result_table.rename_column('MAIN_ID', 'ID')\n",
    "result_table.rename_column('RA_d_A_ICRS__', 'RA')\n",
    "result_table.rename_column('DEC_d_D_ICRS__', 'DEC')\n",
    "result_table"
   ]
  },
  {
   "cell_type": "code",
   "execution_count": 7,
   "id": "ea7a864c",
   "metadata": {},
   "outputs": [],
   "source": [
    "import astropy.units as u\n",
    "import numpy as np\n",
    "from astropy.table import Table\n",
    "from astropy.coordinates import SkyCoord\n",
    "from astroquery.gaia import Gaia\n",
    "\n",
    "def query_gaia(field_size, simbad_result):    \n",
    "\n",
    "    cluster_center = SkyCoord(ra=np.mean(simbad_result['RA']), dec=np.mean(simbad_result['DEC']), unit=(u.degree, u.degree) , frame='icrs')\n",
    "    cluster_ngc869 = SkyCoord(ra=simbad_result[0]['RA'], dec=simbad_result[0]['DEC'], unit=(u.degree, u.degree) , frame='icrs')\n",
    "    cluster_ngc884 = SkyCoord(ra=simbad_result[1]['RA'], dec=simbad_result[1]['DEC'], unit=(u.degree, u.degree) , frame='icrs')\n",
    "\n",
    "    Gaia.MAIN_GAIA_TABLE = \"gaiadr3.gaia_source\"\n",
    "\n",
    "    fields_of_interest = f\"\"\"--\n",
    "    -- Gaia's identifier used to join data\n",
    "    source_id, \n",
    "    --\n",
    "    -- Sky location/angle stuff\n",
    "    --\n",
    "    ra, dec,             -- Sky Location\n",
    "    pmra, pmdec,         -- Sky Proper motion\n",
    "    parallax,           -- parallax (not sure if needed, given bailer jones distances)\n",
    "    astrometric_params_solved, -- Filtering to make sure we get at least the 5 sky params above (bias introduced here)\n",
    "    -- Calculated separation to each cluster center and the median\n",
    "    DISTANCE(ra, dec, {cluster_ngc869.ra.degree}, {cluster_ngc869.dec.degree}) as separation_ngc_869,\n",
    "    DISTANCE(ra, dec, {cluster_ngc884.ra.degree}, {cluster_ngc884.dec.degree}) as separation_ngc_884,\n",
    "    DISTANCE(ra, dec, {cluster_center.ra.degree}, {cluster_center.dec.degree}) as separation_center,\n",
    "    --\n",
    "    -- Distance\n",
    "    --\n",
    "    r_med_geo,        -- Distance according to Bailer-Jones analysis\n",
    "    --\n",
    "    -- Photometry/color\n",
    "    --\n",
    "    phot_g_mean_mag,  -- Gaia photometry\n",
    "    bp_rp,\n",
    "    --Reddening and extinction\n",
    "    ebpminrp_gspphot,\n",
    "    ag_gspphot,\n",
    "    azero_gspphot, -- This is as close as Gaia gets to A_v\n",
    "    distance_gspphot -- Distance from photometry, trying this to make HR diagram work\n",
    "    \"\"\"\n",
    "\n",
    "\n",
    "    query = f\"\"\"\n",
    "    SELECT \n",
    "    --TOP 10\n",
    "    {fields_of_interest}\n",
    "    FROM {Gaia.MAIN_GAIA_TABLE}\n",
    "    JOIN external.gaiaedr3_distance as d USING (source_id) -- For Bailer-Jones Distances\n",
    "    --JOIN gaiadr3.astrophysical_parameters as ap USING (source_id) -- For Extinction in all bands\n",
    "    WHERE \n",
    "        1 = CONTAINS(\n",
    "            POINT('ICRS', ra, dec),\n",
    "            BOX('ICRS', {cluster_center.ra.degree}, {cluster_center.dec.degree}, {field_size.value}, {field_size.value})\n",
    "        )\n",
    "        AND phot_g_mean_mag IS NOT NULL\n",
    "        AND bp_rp IS NOT NULL\n",
    "        AND astrometric_params_solved >= 31\n",
    "    \"\"\"\n",
    "    job = Gaia.launch_job_async(query, verbose = True)\n",
    "    r = job.get_results()\n",
    "    r.info()\n",
    "    return r\n",
    "    \n",
    "\n"
   ]
  },
  {
   "cell_type": "code",
   "execution_count": 8,
   "id": "9626b886",
   "metadata": {
    "scrolled": false
   },
   "outputs": [
    {
     "name": "stdout",
     "output_type": "stream",
     "text": [
      "Launched query: '\n",
      "    SELECT \n",
      "    --TOP 10\n",
      "    --\n",
      "    -- Gaia's identifier used to join data\n",
      "    source_id, \n",
      "    --\n",
      "    -- Sky location/angle stuff\n",
      "    --\n",
      "    ra, dec,             -- Sky Location\n",
      "    pmra, pmdec,         -- Sky Proper motion\n",
      "    parallax,           -- parallax (not sure if needed, given bailer jones distances)\n",
      "    astrometric_params_solved, -- Filtering to make sure we get at least the 5 sky params above (bias introduced here)\n",
      "    -- Calculated separation to each cluster center and the median\n",
      "    DISTANCE(ra, dec, 34.741, 57.134) as separation_ngc_869,\n",
      "    DISTANCE(ra, dec, 35.584, 57.149) as separation_ngc_884,\n",
      "    DISTANCE(ra, dec, 35.1625, 57.1415) as separation_center,\n",
      "    --\n",
      "    -- Distance\n",
      "    --\n",
      "    r_med_geo,        -- Distance according to Bailer-Jones analysis\n",
      "    --\n",
      "    -- Photometry/color\n",
      "    --\n",
      "    phot_g_mean_mag,  -- Gaia photometry\n",
      "    bp_rp,\n",
      "    --Reddening and extinction\n",
      "    ebpminrp_gspphot,\n",
      "    ag_gspphot,\n",
      "    azero_gspphot, -- This is as close as Gaia gets to A_v\n",
      "    distance_gspphot -- Distance from photometry, trying this to make HR diagram work\n",
      "    \n",
      "    FROM gaiadr3.gaia_source\n",
      "    JOIN external.gaiaedr3_distance as d USING (source_id) -- For Bailer-Jones Distances\n",
      "    --JOIN gaiadr3.astrophysical_parameters as ap USING (source_id) -- For Extinction in all bands\n",
      "    WHERE \n",
      "        1 = CONTAINS(\n",
      "            POINT('ICRS', ra, dec),\n",
      "            BOX('ICRS', 35.1625, 57.1415, 2.0, 2.0)\n",
      "        )\n",
      "        AND phot_g_mean_mag IS NOT NULL\n",
      "        AND bp_rp IS NOT NULL\n",
      "        AND astrometric_params_solved >= 31\n",
      "    '\n",
      "------>https\n",
      "host = gea.esac.esa.int:443\n",
      "context = /tap-server/tap/async\n",
      "Content-type = application/x-www-form-urlencoded\n",
      "303 303\n",
      "[('Date', 'Tue, 07 Feb 2023 07:02:56 GMT'), ('Server', 'Apache/2.4.6 (CentOS) OpenSSL/1.0.2k-fips mod_jk/1.2.43'), ('Cache-Control', 'no-cache, no-store, max-age=0, must-revalidate'), ('Pragma', 'no-cache'), ('Expires', '0'), ('X-XSS-Protection', '1; mode=block'), ('X-Frame-Options', 'SAMEORIGIN'), ('X-Content-Type-Options', 'nosniff'), ('Set-Cookie', 'JSESSIONID=302741CA273CFBB8F438BC3E54207E36; Path=/tap-server; Secure; HttpOnly'), ('Location', 'https://gea.esac.esa.int/tap-server/tap/async/1675753376600O'), ('Transfer-Encoding', 'chunked'), ('Content-Type', 'text/plain;charset=ISO-8859-1')]\n",
      "job 1675753376600O, at: https://gea.esac.esa.int/tap-server/tap/async/1675753376600O\n",
      "Retrieving async. results...\n",
      "INFO: Query finished. [astroquery.utils.tap.core]\n",
      "<Table length=125240>\n",
      "           name            dtype    unit                                             description                                           n_bad\n",
      "------------------------- ------- -------- ----------------------------------------------------------------------------------------------- -----\n",
      "                source_id   int64                                                                                                              0\n",
      "                       ra float64      deg                                                                                 Right ascension     0\n",
      "                      dec float64      deg                                                                                     Declination     0\n",
      "                     pmra float64 mas / yr                                                      Proper motion in right ascension direction     0\n",
      "                    pmdec float64 mas / yr                                                          Proper motion in declination direction     0\n",
      "                 parallax float64      mas                                                                                        Parallax     0\n",
      "astrometric_params_solved   int16                                                                   Which parameters have been solved for?     0\n",
      "       separation_ngc_869 float64                                                                                                              0\n",
      "       separation_ngc_884 float64                                                                                                              0\n",
      "        separation_center float64                                                                                                              0\n",
      "                r_med_geo float32       pc                The median of the geometric distance posterior. The geometric distance estimate.     0\n",
      "          phot_g_mean_mag float32      mag                                                                           G-band mean magnitude     0\n",
      "                    bp_rp float32      mag                                                                                  BP - RP colour     0\n",
      "         ebpminrp_gspphot float32      mag    Reddening $E(G_{\\rm BP} - G_{\\rm RP})$ from GSP-Phot Aeneas best library using BP/RP spectra 72233\n",
      "               ag_gspphot float32      mag                      Extinction in G band from GSP-Phot Aeneas best library using BP/RP spectra 72233\n",
      "            azero_gspphot float32      mag Monochromatic extinction $A_0$ at 547.7nm from GSP-Phot Aeneas best library using BP/RP spectra 72233\n",
      "         distance_gspphot float32       pc                                  Distance from GSP-Phot Aeneas best library using BP/RP spectra 72233\n",
      "CPU times: user 7.76 s, sys: 130 ms, total: 7.89 s\n",
      "Wall time: 42.5 s\n"
     ]
    },
    {
     "name": "stderr",
     "output_type": "stream",
     "text": [
      "/home/mtauraso/astr511-hw2/.snakemake/conda/9f6bfdea3ec59e9e32ddf47f2c61ee75_/lib/python3.9/site-packages/astropy/io/misc/hdf5.py:283: UserWarning: table path was not set via the path= argument; using default path __astropy_table__\n",
      "  warnings.warn(\n"
     ]
    }
   ],
   "source": [
    "%%time\n",
    "# This cell takes about a minute to run\n",
    "\n",
    "from astropy.table import Table\n",
    "r_narrow = query_gaia(u.Quantity(2, u.deg), result_table)\n",
    "r_narrow.write('../data/Cluster-narrow.hdf5', format='hdf5', overwrite=True, serialize_meta=True)"
   ]
  },
  {
   "cell_type": "code",
   "execution_count": 9,
   "id": "21343400",
   "metadata": {},
   "outputs": [
    {
     "name": "stdout",
     "output_type": "stream",
     "text": [
      "Launched query: '\n",
      "    SELECT \n",
      "    --TOP 10\n",
      "    --\n",
      "    -- Gaia's identifier used to join data\n",
      "    source_id, \n",
      "    --\n",
      "    -- Sky location/angle stuff\n",
      "    --\n",
      "    ra, dec,             -- Sky Location\n",
      "    pmra, pmdec,         -- Sky Proper motion\n",
      "    parallax,           -- parallax (not sure if needed, given bailer jones distances)\n",
      "    astrometric_params_solved, -- Filtering to make sure we get at least the 5 sky params above (bias introduced here)\n",
      "    -- Calculated separation to each cluster center and the median\n",
      "    DISTANCE(ra, dec, 34.741, 57.134) as separation_ngc_869,\n",
      "    DISTANCE(ra, dec, 35.584, 57.149) as separation_ngc_884,\n",
      "    DISTANCE(ra, dec, 35.1625, 57.1415) as separation_center,\n",
      "    --\n",
      "    -- Distance\n",
      "    --\n",
      "    r_med_geo,        -- Distance according to Bailer-Jones analysis\n",
      "    --\n",
      "    -- Photometry/color\n",
      "    --\n",
      "    phot_g_mean_mag,  -- Gaia photometry\n",
      "    bp_rp,\n",
      "    --Reddening and extinction\n",
      "    ebpminrp_gspphot,\n",
      "    ag_gspphot,\n",
      "    azero_gspphot, -- This is as close as Gaia gets to A_v\n",
      "    distance_gspphot -- Distance from photometry, trying this to make HR diagram work\n",
      "    \n",
      "    FROM gaiadr3.gaia_source\n",
      "    JOIN external.gaiaedr3_distance as d USING (source_id) -- For Bailer-Jones Distances\n",
      "    --JOIN gaiadr3.astrophysical_parameters as ap USING (source_id) -- For Extinction in all bands\n",
      "    WHERE \n",
      "        1 = CONTAINS(\n",
      "            POINT('ICRS', ra, dec),\n",
      "            BOX('ICRS', 35.1625, 57.1415, 7.5, 7.5)\n",
      "        )\n",
      "        AND phot_g_mean_mag IS NOT NULL\n",
      "        AND bp_rp IS NOT NULL\n",
      "        AND astrometric_params_solved >= 31\n",
      "    '\n",
      "------>https\n",
      "host = gea.esac.esa.int:443\n",
      "context = /tap-server/tap/async\n",
      "Content-type = application/x-www-form-urlencoded\n",
      "303 303\n",
      "[('Date', 'Tue, 07 Feb 2023 07:03:38 GMT'), ('Server', 'Apache/2.4.6 (CentOS) OpenSSL/1.0.2k-fips mod_jk/1.2.43'), ('Cache-Control', 'no-cache, no-store, max-age=0, must-revalidate'), ('Pragma', 'no-cache'), ('Expires', '0'), ('X-XSS-Protection', '1; mode=block'), ('X-Frame-Options', 'SAMEORIGIN'), ('X-Content-Type-Options', 'nosniff'), ('Set-Cookie', 'JSESSIONID=3697FB8C8EEE796C6126132B5E93F57F; Path=/tap-server; Secure; HttpOnly'), ('Location', 'https://gea.esac.esa.int/tap-server/tap/async/1675753418752O'), ('Transfer-Encoding', 'chunked'), ('Content-Type', 'text/plain;charset=ISO-8859-1')]\n",
      "job 1675753418752O, at: https://gea.esac.esa.int/tap-server/tap/async/1675753418752O\n",
      "Retrieving async. results...\n",
      "INFO: Query finished. [astroquery.utils.tap.core]\n",
      "<Table length=1516913>\n",
      "           name            dtype    unit                                             description                                           n_bad \n",
      "------------------------- ------- -------- ----------------------------------------------------------------------------------------------- ------\n",
      "                source_id   int64                                                                                                               0\n",
      "                       ra float64      deg                                                                                 Right ascension      0\n",
      "                      dec float64      deg                                                                                     Declination      0\n",
      "                     pmra float64 mas / yr                                                      Proper motion in right ascension direction      0\n",
      "                    pmdec float64 mas / yr                                                          Proper motion in declination direction      0\n",
      "                 parallax float64      mas                                                                                        Parallax      0\n",
      "astrometric_params_solved   int16                                                                   Which parameters have been solved for?      0\n",
      "       separation_ngc_869 float64                                                                                                               0\n",
      "       separation_ngc_884 float64                                                                                                               0\n",
      "        separation_center float64                                                                                                               0\n",
      "                r_med_geo float32       pc                The median of the geometric distance posterior. The geometric distance estimate.      0\n",
      "          phot_g_mean_mag float32      mag                                                                           G-band mean magnitude      0\n",
      "                    bp_rp float32      mag                                                                                  BP - RP colour      0\n",
      "         ebpminrp_gspphot float32      mag    Reddening $E(G_{\\rm BP} - G_{\\rm RP})$ from GSP-Phot Aeneas best library using BP/RP spectra 888268\n",
      "               ag_gspphot float32      mag                      Extinction in G band from GSP-Phot Aeneas best library using BP/RP spectra 888268\n",
      "            azero_gspphot float32      mag Monochromatic extinction $A_0$ at 547.7nm from GSP-Phot Aeneas best library using BP/RP spectra 888268\n",
      "         distance_gspphot float32       pc                                  Distance from GSP-Phot Aeneas best library using BP/RP spectra 888268\n"
     ]
    },
    {
     "name": "stderr",
     "output_type": "stream",
     "text": [
      "/home/mtauraso/astr511-hw2/.snakemake/conda/9f6bfdea3ec59e9e32ddf47f2c61ee75_/lib/python3.9/site-packages/astropy/io/misc/hdf5.py:283: UserWarning: table path was not set via the path= argument; using default path __astropy_table__\n",
      "  warnings.warn(\n"
     ]
    },
    {
     "name": "stdout",
     "output_type": "stream",
     "text": [
      "CPU times: user 1min 37s, sys: 1.53 s, total: 1min 39s\n",
      "Wall time: 5min 31s\n"
     ]
    }
   ],
   "source": [
    "%%time\n",
    "# This cell takes about 10 minutes to run\n",
    "# Shamelessly stolen bounds of 7.5 deg (Zhong, Chen 2019)\n",
    "r_broad = query_gaia(u.Quantity(7.5, u.deg), result_table)\n",
    "r_broad.write('../data/Cluster-broad.hdf5', format='hdf5', overwrite=True, serialize_meta=True)\n",
    "\n",
    "# This takes a long time to run, but it's <200M of data and only takes a dozen seconds to compute on Gaia's side. \n",
    "# Virtually all the time is transfer."
   ]
  },
  {
   "cell_type": "code",
   "execution_count": null,
   "id": "3b281042",
   "metadata": {},
   "outputs": [],
   "source": []
  }
 ],
 "metadata": {
  "kernelspec": {
   "display_name": "Python 3 (ipykernel)",
   "language": "python",
   "name": "python3"
  },
  "language_info": {
   "codemirror_mode": {
    "name": "ipython",
    "version": 3
   },
   "file_extension": ".py",
   "mimetype": "text/x-python",
   "name": "python",
   "nbconvert_exporter": "python",
   "pygments_lexer": "ipython3",
   "version": "3.9.16"
  }
 },
 "nbformat": 4,
 "nbformat_minor": 5
}
